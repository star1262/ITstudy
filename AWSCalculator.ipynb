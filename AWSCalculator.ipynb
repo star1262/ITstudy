{
  "nbformat": 4,
  "nbformat_minor": 0,
  "metadata": {
    "colab": {
      "name": "AWSCalculator.ipynb",
      "version": "0.3.2",
      "provenance": [],
      "include_colab_link": true
    },
    "kernelspec": {
      "name": "python3",
      "display_name": "Python 3"
    }
  },
  "cells": [
    {
      "cell_type": "markdown",
      "metadata": {
        "id": "view-in-github",
        "colab_type": "text"
      },
      "source": [
        "<a href=\"https://colab.research.google.com/github/star1262/ITstudy/blob/master/AWSCalculator.ipynb\" target=\"_parent\"><img src=\"https://colab.research.google.com/assets/colab-badge.svg\" alt=\"Open In Colab\"/></a>"
      ]
    },
    {
      "metadata": {
        "id": "CUEeuNCshR8t",
        "colab_type": "code",
        "colab": {}
      },
      "cell_type": "code",
      "source": [
        "\"AmazonEC2\" : {\n",
        "      \"offerCode\" : \"AmazonEC2\",\n",
        "      \"versionIndexUrl\" : \"/offers/v1.0/aws/AmazonEC2/index.json\",\n",
        "      \"currentVersionUrl\" : \"/offers/v1.0/aws/AmazonEC2/current/index.json\",\n",
        "      \"currentRegionIndexUrl\" : \"/offers/v1.0/aws/AmazonEC2/current/region_index.json\"\n",
        "    },\n",
        "\n",
        "\n",
        "# EC2\n",
        "curl https://pricing.us-east-1.amazonaws.com/offers/v1.0/aws/AmazonEC2/index.json | python -m json.tool\n",
        "\n",
        "# RDS\n",
        "curl https://pricing.us-east-1.amazonaws.com/offers/v1.0/aws/AmazonRDS/index.json | python -m json.tool"
      ],
      "execution_count": 0,
      "outputs": []
    }
  ]
}